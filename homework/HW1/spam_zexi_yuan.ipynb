{
 "cells": [
  {
   "cell_type": "code",
   "execution_count": 28,
   "metadata": {
    "collapsed": true
   },
   "outputs": [],
   "source": [
    "import numpy as np\n",
    "import math\n",
    "from sklearn.metrics import roc_auc_score"
   ]
  },
  {
   "cell_type": "code",
   "execution_count": 29,
   "metadata": {
    "collapsed": true
   },
   "outputs": [],
   "source": [
    "'''\n",
    "    load data from txt file\n",
    "'''\n",
    "def load_data(filename):\n",
    "    f = open(filename, 'r')\n",
    "    k = 0\n",
    "    data = f.read()\n",
    "    f.close()\n",
    "    data_list = data.split('\\n')\n",
    "    arr_list = []\n",
    "    for line in data_list:\n",
    "        if line != '' :\n",
    "            arr = line.split(' ')\n",
    "            arr_list.append(arr)\n",
    "    return arr_list"
   ]
  },
  {
   "cell_type": "code",
   "execution_count": 30,
   "metadata": {
    "collapsed": true
   },
   "outputs": [],
   "source": [
    "'''\n",
    "    transform original data to samples dataset\n",
    "'''\n",
    "def samples_dict(features, labels):\n",
    "    samples = {}\n",
    "    for i in range(len(labels)):\n",
    "        samples[str(i+1)] = {}\n",
    "    for item in features:\n",
    "        samples[item[0]][item[1]] = item[2]\n",
    "    return samples        "
   ]
  },
  {
   "cell_type": "code",
   "execution_count": 31,
   "metadata": {
    "collapsed": true
   },
   "outputs": [],
   "source": [
    "'''\n",
    "    given the x, compute the probability of each class using LogSumExp to prevent underflow\n",
    "'''\n",
    "def log_p_pair(log_p0, log_p1, dict_x):\n",
    "    log_denominator = 0\n",
    "    logsum_p0 = math.log(0.5)\n",
    "    logsum_p1 = math.log(0.5)\n",
    "    for key, value in dict_x.items():\n",
    "        logsum_p0 += int(value) * log_p0[key]\n",
    "        logsum_p1 += int(value) * log_p1[key]\n",
    "    max_ak = max(logsum_p0,logsum_p1)\n",
    "    log_denominator = max_ak + math.log(math.exp(logsum_p0 - max_ak) + math.exp(logsum_p1 - max_ak))\n",
    "    return ((logsum_p0 - log_denominator),(logsum_p1 - log_denominator))"
   ]
  },
  {
   "cell_type": "code",
   "execution_count": 32,
   "metadata": {
    "collapsed": true
   },
   "outputs": [],
   "source": [
    "test_features = load_data('test-features.txt')\n",
    "test_labels = np.ravel(load_data('test-labels.txt'))\n",
    "train_features = load_data('train-features.txt')\n",
    "train_labels = np.ravel(load_data('train-labels.txt'))\n",
    "train_samples = samples_dict(train_features,train_labels)\n",
    "test_samples = samples_dict(test_features,test_labels)\n",
    "\n",
    "uni_features = np.unique(np.ravel(np.mat(train_features)[:,1]))\n",
    "test_uni_features = np.unique(np.ravel(np.mat(test_features)[:,1]))\n",
    "#obtain the number of whole possible words\n",
    "total_words = max((max(uni_features.astype(int)),max(test_uni_features.astype(int))))"
   ]
  },
  {
   "cell_type": "code",
   "execution_count": 33,
   "metadata": {
    "collapsed": true
   },
   "outputs": [],
   "source": [
    "'introducing a smoothing'\n",
    "smoothing = 1\n",
    "features_times_0 = {}\n",
    "features_times_1 = {}\n",
    "for i in range(total_words+1):\n",
    "    features_times_0[str(i)] = smoothing\n",
    "    features_times_1[str(i)] = smoothing\n",
    "    \n",
    "for item in train_features:\n",
    "    # classify and count features times\n",
    "    if train_labels[int(item[0])-1] == '0':\n",
    "        features_times_0[item[1]] += int(item[2])\n",
    "    else:\n",
    "        features_times_1[item[1]] += int(item[2])\n",
    "\n",
    "total_times_0 = 0\n",
    "total_times_1 = 0\n",
    "for i in features_times_0.values():\n",
    "    total_times_0 += i\n",
    "for i in features_times_1.values():\n",
    "    total_times_1 += i"
   ]
  },
  {
   "cell_type": "code",
   "execution_count": 34,
   "metadata": {
    "collapsed": true
   },
   "outputs": [],
   "source": [
    "log_p_0 = {}\n",
    "log_p_1 = {}\n",
    "for key, value in features_times_0.items():\n",
    "    log_p_0[key] = math.log(value) - math.log(total_times_0)\n",
    "for key, value in features_times_1.items():\n",
    "    log_p_1[key] = math.log(value) - math.log(total_times_1)"
   ]
  },
  {
   "cell_type": "code",
   "execution_count": 35,
   "metadata": {
    "scrolled": true
   },
   "outputs": [
    {
     "name": "stdout",
     "output_type": "stream",
     "text": [
      "3(a) classification error on training set\n",
      "0.0128571428571\n",
      "3(a) AUC on training set\n",
      "0.999763265306\n"
     ]
    }
   ],
   "source": [
    "prob_arr = []\n",
    "results = []\n",
    "for i in range(len(train_labels)):\n",
    "    #temp = scores(log_p_0,log_p_1, train_samples[str(i+1)])\n",
    "    p_0, p_1 = log_p_pair(log_p_0,log_p_1, train_samples[str(i+1)])\n",
    "    prob_arr.append(math.exp(p_1))\n",
    "    if p_0 >= p_1:\n",
    "        results.append('0')\n",
    "    else:\n",
    "        results.append('1')\n",
    "print '3(a) classification error on training set'\n",
    "err = 0.0\n",
    "for i in range(len(results)):\n",
    "    if results[i] != train_labels[i]:\n",
    "        err += 1\n",
    "print err/len(train_labels)\n",
    "\n",
    "print '3(a) AUC on training set'\n",
    "print roc_auc_score(train_labels.astype(int), prob_arr)"
   ]
  },
  {
   "cell_type": "code",
   "execution_count": 36,
   "metadata": {},
   "outputs": [
    {
     "name": "stdout",
     "output_type": "stream",
     "text": [
      "3(b) classification error on test set\n",
      "0.0192307692308\n",
      "3(b) AUC on test set\n",
      "0.989881656805\n"
     ]
    }
   ],
   "source": [
    "test_prob_arr = []\n",
    "test_results = []\n",
    "for i in range(len(test_labels)):\n",
    "    #temp = scores(log_p_0,log_p_1, train_samples[str(i+1)])\n",
    "    p_0, p_1 = log_p_pair(log_p_0,log_p_1, test_samples[str(i+1)])\n",
    "    test_prob_arr.append(math.exp(p_1))\n",
    "    if p_0 >= p_1:\n",
    "        test_results.append('0')\n",
    "    else:\n",
    "        test_results.append('1')\n",
    "print '3(b) classification error on test set'\n",
    "test_err = 0.0\n",
    "for i in range(len(test_results)):\n",
    "    if test_results[i] != test_labels[i]:\n",
    "        test_err += 1\n",
    "print test_err/len(test_labels)\n",
    "\n",
    "print '3(b) AUC on test set'\n",
    "print roc_auc_score(test_labels.astype(int), test_prob_arr)"
   ]
  },
  {
   "cell_type": "markdown",
   "metadata": {},
   "source": [
    "3(b)  Comparison\n",
    "\n",
    "Comparing the AUC and the classification error from test set with those from training set, it shows that the AUC from test set is a little less than the AUC from train_set and the classification error from test set is bigger than that from train set. But the model from train set still performs well in test set."
   ]
  }
 ],
 "metadata": {
  "kernelspec": {
   "display_name": "Python 2",
   "language": "python",
   "name": "python2"
  },
  "language_info": {
   "codemirror_mode": {
    "name": "ipython",
    "version": 2
   },
   "file_extension": ".py",
   "mimetype": "text/x-python",
   "name": "python",
   "nbconvert_exporter": "python",
   "pygments_lexer": "ipython2",
   "version": "2.7.13"
  }
 },
 "nbformat": 4,
 "nbformat_minor": 2
}
